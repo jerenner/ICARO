{
 "cells": [
  {
   "cell_type": "markdown",
   "metadata": {},
   "source": [
    "# Waveform analysis"
   ]
  },
  {
   "cell_type": "code",
   "execution_count": null,
   "metadata": {},
   "outputs": [],
   "source": [
    "%matplotlib inline\n",
    "\n",
    "import os\n",
    "import textwrap\n",
    "import math\n",
    "#import h5py\n",
    "\n",
    "import matplotlib        as mpl\n",
    "import matplotlib.pyplot as plt\n",
    "import numpy             as np\n",
    "import tables            as tb\n",
    "\n",
    "import invisible_cities.core.core_functions as coref\n",
    "import invisible_cities.core.fit_functions  as fitf\n",
    "import invisible_cities.reco.dst_functions  as dstf\n",
    "import invisible_cities.reco.tbl_functions  as tbl\n",
    "import invisible_cities.sierpe.blr          as blr\n",
    "\n",
    "from   invisible_cities.icaro. hst_functions   import display_matrix\n",
    "from   invisible_cities.database               import load_db\n",
    "\n",
    "from   matplotlib                              import gridspec\n",
    "from   matplotlib.patches                      import Ellipse\n",
    "from   scipy.optimize                          import curve_fit\n",
    "from   scipy.interpolate                       import interp1d\n",
    "\n",
    "from   matplotlib.colors                       import SymLogNorm\n",
    "\n",
    "from   fitpol import fitpol\n",
    "\n",
    "# Formatting options\n",
    "mpl.rcParams.update({'font.size': 14})\n",
    "mpl.rcParams['image.cmap'] = 'Greys'\n",
    "mpl.rcParams['patch.force_edgecolor'] = False\n",
    "mpl.rcParams['patch.facecolor'] = 'gray'\n",
    "hargs = {'histtype': 'stepfilled', 'edgecolor': 'black', 'facecolor': 'gray'}\n",
    "\n",
    "# Directory to which figures will be stored\n",
    "save_dir = \"/Users/jrenner/local/data/NEW/6485/waveforms\""
   ]
  },
  {
   "cell_type": "markdown",
   "metadata": {},
   "source": [
    "## Specify configuration parameters and read the waveforms"
   ]
  },
  {
   "cell_type": "code",
   "execution_count": null,
   "metadata": {},
   "outputs": [],
   "source": [
    "rnum = 6485\n",
    "DataPMT = load_db.DataPMT(rnum)\n",
    "\n",
    "coeff_c = DataPMT.coeff_c.values\n",
    "coeff_blr = DataPMT.coeff_blr.values\n",
    "pmt_active = np.nonzero(DataPMT.Active.values.astype(bool))[0].tolist()\n",
    "n_baseline = 48000\n",
    "thr_trigger = 5\n",
    "accum_discharge_length = 5000"
   ]
  },
  {
   "cell_type": "code",
   "execution_count": null,
   "metadata": {},
   "outputs": [],
   "source": [
    "wffile = '/Users/jrenner/local/data/NEW/6485/selection_6485_Tlphotopeak.h5'\n",
    "event_numbers, timestamps = tbl.get_event_numbers_and_timestamps_from_file_name(wffile)\n",
    "h5in = tb.open_file(wffile, \"r\")\n",
    "NEVT_pmt, pmtrwf, sipmrwf, pmtblr = tbl.get_rwf_vectors(h5in)"
   ]
  },
  {
   "cell_type": "markdown",
   "metadata": {},
   "source": [
    "## Plots"
   ]
  },
  {
   "cell_type": "code",
   "execution_count": null,
   "metadata": {},
   "outputs": [],
   "source": [
    "# plot the distribution of raw samples for all waveforms\n",
    "for ii,ee in enumerate(event_numbers):\n",
    "    \n",
    "    fig = plt.figure(3)\n",
    "    fig.set_figheight(18.0)\n",
    "    fig.set_figwidth(18.0)\n",
    "\n",
    "    RWF = pmtrwf[ii]\n",
    "    \n",
    "    # Plot the distribution of raw ADC values for each PMT.\n",
    "    for ipmt in pmt_active:\n",
    "        wf = RWF[ipmt]\n",
    "        ax = fig.add_subplot(4,3,ipmt+1)\n",
    "        hh = plt.hist(wf,bins=100,**hargs)\n",
    "        if(ipmt == 1):\n",
    "            plt.title(\"Raw ADC values, run {}, event {}\".format(rnum,ee),fontsize=16,fontweight=\"bold\")\n",
    "        plt.text(np.min(hh[1]), 3*np.max(hh[0])/8, \"PMT {}\".format(ipmt),fontsize=14,fontweight=\"bold\")\n",
    "        plt.yscale('log')\n",
    "        plt.xlabel('ADC counts')\n",
    "        plt.ylabel('Counts/bin')\n",
    "    \n",
    "    # Save the figure.\n",
    "    plt.savefig(\"{}/RAW_ADC_run{}_evt{}.pdf\".format(save_dir,rnum,ee), bbox_inches='tight')\n",
    "    plt.close()"
   ]
  },
  {
   "cell_type": "code",
   "execution_count": null,
   "metadata": {},
   "outputs": [],
   "source": [
    "# plot the corrected and uncorrected waveforms for all events\n",
    "for ii,ee in enumerate(event_numbers):\n",
    "    \n",
    "    fig = plt.figure()\n",
    "    fig.set_figheight(5.0)\n",
    "    fig.set_figwidth(15.0)\n",
    "\n",
    "    RWF = pmtrwf[ii]\n",
    "    RWF = pmtrwf[ii]\n",
    "    CWF = blr.deconv_pmt(RWF,coeff_c,coeff_blr,pmt_active,n_baseline,thr_trigger,accum_discharge_length)\n",
    "\n",
    "    sum_RWF = np.sum(RWF,axis=0)\n",
    "    sum_CWF = np.sum(CWF,axis=0)\n",
    "    \n",
    "    # plot the corrected and uncorrected waveforms\n",
    "    ax1 = fig.add_subplot(211)\n",
    "    ax1.plot(sum_RWF,color='black')\n",
    "    ax1.set_xlim(10000,40000)\n",
    "    #ax1.set_xlabel('Sample')\n",
    "    ax1.set_ylabel('ADC counts')\n",
    "    #ax1.text(10700, 4.0*max(sum_RWF)/8, 'Uncorrected waveform',fontsize=14) #bbox={'facecolor':'white', 'alpha':1.0, 'pad':5}\n",
    "    ax1.set_title(\"run {}, event {}\".format(rnum,ee),fontsize=16,fontweight=\"bold\")\n",
    "    ax1.fill_between(xfit, pfit_minus(xfit), pfit_plus(xfit), facecolor='lightgray')\n",
    "    \n",
    "    ax2 = fig.add_subplot(212)\n",
    "    ax2.plot(sum_CWF,color='black')\n",
    "    ax2.set_xlim(10000,40000)\n",
    "    ax2.set_xlabel('Sample')\n",
    "    ax2.set_ylabel('ADC counts')\n",
    "    #ax2.text(10700, 3.5*max(sum_RWF)/8, 'Corrected waveform',fontsize=14) #bbox={'facecolor':'white', 'alpha':1.0, 'pad':5}\n",
    "    \n",
    "    # Save the figure.\n",
    "    plt.savefig(\"{}/WF_run{}_evt{}.pdf\".format(save_dir,rnum,ee), bbox_inches='tight')\n",
    "    plt.close()"
   ]
  },
  {
   "cell_type": "markdown",
   "metadata": {},
   "source": [
    "### Misc code"
   ]
  },
  {
   "cell_type": "code",
   "execution_count": null,
   "metadata": {},
   "outputs": [],
   "source": [
    "# select the waveform and deconvolve\n",
    "evt_wf = 4034\n",
    "iwf = -1\n",
    "for ii,ee in enumerate(event_numbers):\n",
    "    #print(ee)\n",
    "    if(ee == evt_wf):\n",
    "        if(iwf > 0): print(\"WARNING: selected event twice!\")\n",
    "        iwf = ii\n",
    "\n",
    "RWF = pmtrwf[iwf]\n",
    "CWF = blr.deconv_pmt(RWF,coeff_c,coeff_blr,pmt_active,n_baseline,thr_trigger,accum_discharge_length)\n",
    "\n",
    "wf1 = RWF[1]\n",
    "plt.hist(wf1,bins=100,**hargs)\n",
    "plt.yscale('log')\n",
    "\n",
    "sum_RWF = np.sum(RWF,axis=0)\n",
    "sum_CWF = np.sum(CWF,axis=0)\n",
    "\n",
    "print(\"Selected event number {} at index {}\".format(evt_wf,iwf))"
   ]
  },
  {
   "cell_type": "code",
   "execution_count": null,
   "metadata": {},
   "outputs": [],
   "source": [
    "# plot the corrected and uncorrected waveforms\n",
    "fig = plt.figure(3)\n",
    "fig.set_figheight(5.0)\n",
    "fig.set_figwidth(15.0)\n",
    "\n",
    "ax1 = fig.add_subplot(211)\n",
    "ax1.plot(sum_RWF,color='black')\n",
    "ax1.set_xlim(15000,35000)\n",
    "#ax1.set_xlabel('Sample')\n",
    "ax1.set_ylabel('ADC counts')\n",
    "ax1.text(15700, 5.0*max(sum_RWF)/8, 'Uncorrected waveform',fontsize=14) #bbox={'facecolor':'white', 'alpha':1.0, 'pad':5}\n",
    "\n",
    "ax2 = fig.add_subplot(212)\n",
    "ax2.plot(sum_CWF,color='black')\n",
    "ax2.set_xlim(15000,35000)\n",
    "ax2.set_xlabel('Sample')\n",
    "ax2.set_ylabel('ADC counts')\n",
    "ax2.text(15700, 3*max(sum_RWF)/8, 'Corrected waveform',fontsize=14) #bbox={'facecolor':'white', 'alpha':1.0, 'pad':5}\n",
    "\n",
    "plt.savefig(\"{}/CSTH_WF_run4735_evt{}.pdf\".format(save_dir,evt_wf), bbox_inches='tight')"
   ]
  },
  {
   "cell_type": "code",
   "execution_count": null,
   "metadata": {},
   "outputs": [],
   "source": [
    "# plot the corrected waveform\n",
    "fig = plt.figure()\n",
    "fig.set_figheight(3.0)\n",
    "fig.set_figwidth(12.5)\n",
    "\n",
    "WFSCALE = 25./1000\n",
    "wf_time = np.arange(0,len(sum_CWF),1.)*WFSCALE\n",
    "\n",
    "ax1 = fig.add_subplot(111)\n",
    "ax1.plot(wf_time,sum_CWF,'-',color='black')\n",
    "ax1.set_xlim(32500*WFSCALE,45500*WFSCALE)\n",
    "plt.annotate('', xy=(35050*WFSCALE,2500),  xycoords='data',\n",
    "                xytext=(34050*WFSCALE,5600), textcoords='data',\n",
    "                arrowprops=dict(arrowstyle=\"->\",facecolor='black'))\n",
    "#                arrowprops=dict(arrowstyle=\"-[,widthB=1\"))\n",
    "#ax1.locator_params(axis='y', nbins=5)\n",
    "#ax1.axis([0,130,654,670])\n",
    "ax1.set_xlabel('Time ($\\mu$s)')\n",
    "ax1.set_ylabel('ADC counts')\n",
    "\n",
    "#ax2 = ax1.twinx()\n",
    "#ax2.set_ylim(ax1.get_ylim())\n",
    "#y2ticks = np.array([4000, 2000, 0]) #, 350, 400])\n",
    "#ax2.set_yticks(y2ticks)\n",
    "#ax2.set_yticklabels(y2ticks) #,fontsize=tc_tlabel_size,fontname=tc_tlabel_font,fontweight=tc_tlabel_weight)\n",
    "#ax2.set_ylabel('ADC counts')\n",
    "\n",
    "# S1 inset\n",
    "ax1i = fig.add_axes([0.18,0.60,0.15,0.2])\n",
    "ax1i.plot(wf_time,sum_CWF,'-',color='black')\n",
    "ax1i.axis([35000*WFSCALE,35100*WFSCALE,0,2500])\n",
    "ax1i.xaxis.set_ticks([35000*WFSCALE,35050*WFSCALE,35100*WFSCALE])\n",
    "ax1i.yaxis.set_ticks([0,2500])\n",
    "#ax2i = ax1i.twinx()\n",
    "#ax2i.set_ylim(ax1i.get_ylim())\n",
    "#y2iticks = np.array([160, 80, 0]) #, 350, 400])\n",
    "#ax2i.set_yticks(y2iticks)\n",
    "#ax2i.set_yticklabels(y2iticks) #,fontsize=tc_tlabel_size,fontname=tc_tlabel_font,fontweight=tc_tlabel_weight)\n",
    "        \n",
    "# S1 and S2 labels\n",
    "fig.text(0.30,0.72,\"S1\",color='black')\n",
    "fig.text(0.685,0.18,\"S2\",color='black')\n",
    "#fig.text(0.26,0.25,\"NaI\",color='black')\n",
    "#formatPlot(plt)\n",
    "lb_x = ax1i.xaxis.get_majorticklabels()\n",
    "lb_y = ax1i.yaxis.get_majorticklabels()\n",
    "#for lb in (lb_x + lb_y):\n",
    "#    lb.set_fontname(tc_tlabel_font)\n",
    "#    lb.set_fontweight(tc_tlabel_weight)\n",
    "#    lb.set_fontsize(tc_tlabel_size*0.85)\n",
    "\n",
    "plt.savefig(\"{}/CSTH_WF_run6485_evt{}.pdf\".format(save_dir,evt_wf), bbox_inches='tight')"
   ]
  },
  {
   "cell_type": "markdown",
   "metadata": {},
   "source": [
    "-------"
   ]
  },
  {
   "cell_type": "code",
   "execution_count": null,
   "metadata": {},
   "outputs": [],
   "source": []
  }
 ],
 "metadata": {
  "anaconda-cloud": {},
  "kernelspec": {
   "display_name": "Python 3",
   "language": "python",
   "name": "python3"
  },
  "language_info": {
   "codemirror_mode": {
    "name": "ipython",
    "version": 3
   },
   "file_extension": ".py",
   "mimetype": "text/x-python",
   "name": "python",
   "nbconvert_exporter": "python",
   "pygments_lexer": "ipython3",
   "version": "3.7.2"
  }
 },
 "nbformat": 4,
 "nbformat_minor": 2
}
