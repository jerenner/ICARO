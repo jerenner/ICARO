{
 "cells": [
  {
   "cell_type": "code",
   "execution_count": 1,
   "metadata": {},
   "outputs": [],
   "source": [
    "%matplotlib inline\n",
    "\n",
    "import matplotlib as mpl\n",
    "import matplotlib.pyplot as plt\n",
    "import numpy  as np\n",
    "from mpl_toolkits.mplot3d import Axes3D\n",
    "\n",
    "import struct"
   ]
  },
  {
   "cell_type": "markdown",
   "metadata": {},
   "source": [
    "# Create a NEMA-like phantom\n",
    "Note we will sample to a 1 mm resolution.  The phantom consists of:\n",
    "\n",
    "- 4 radioactive spheres of radii 4, 6.5, 8.5, and 11 mm\n",
    "- 2 cold spheres of radii 14, 18.5 mm\n",
    "- a cold central cylinder of radius 20 mm and z-length of 100 mm\n",
    "- all spheres placed at a radial distance of 114.4 mm from the center of the volume, centered axially\n",
    "- \"radioactive\" elements have 4 times the activity of \"cold\" elements "
   ]
  },
  {
   "cell_type": "markdown",
   "metadata": {},
   "source": [
    "### Function definitions"
   ]
  },
  {
   "cell_type": "code",
   "execution_count": 2,
   "metadata": {},
   "outputs": [],
   "source": [
    "def create_sphere(radius):\n",
    "    \"\"\"Create a spherical volume of specified radius\"\"\"\n",
    "\n",
    "    s = np.rint(radius*2).astype('int')\n",
    "    if(s % 2 == 0): s += 1\n",
    "    \n",
    "    vol = np.zeros([s,s,s])\n",
    "    for ii in range(s**3):\n",
    "        \n",
    "        nnx = int(ii / s**2)\n",
    "        nny = int(ii/s) % s\n",
    "        nnz = int(ii) % s\n",
    "    \n",
    "        x = s*(1.0*(nnx+0.5)/s - 0.5)\n",
    "        y = s*(1.0*(nny+0.5)/s - 0.5)\n",
    "        z = s*(1.0*(nnz+0.5)/s - 0.5)\n",
    "        #print(\"Index\",ii,\"x=\",x,\"y=\",y,\"z=\",z)\n",
    "        \n",
    "        if(x**2 + y**2 + z**2 <= radius**2):\n",
    "            vol[nnx,nny,nnz] += 1\n",
    "    \n",
    "    return vol\n",
    "\n",
    "def create_cylinder(radius,halfheight):\n",
    "    \"\"\"Create a cylindrical volume of specified radius and height\"\"\"\n",
    "    \n",
    "    s = np.rint(radius*2).astype('int')\n",
    "    if(s % 2 == 0): s += 1\n",
    "    h = np.rint(halfheight*2).astype('int')\n",
    "    if(h % 2 == 0): h += 1\n",
    "\n",
    "    vol = np.zeros([s,s,h])\n",
    "    for ii in range(s**2*h):\n",
    "        \n",
    "        nnx = int(ii / (s*h))\n",
    "        nny = int(ii/h) % s\n",
    "        nnz = int(ii) % h\n",
    "    \n",
    "        x = s*(1.0*(nnx+0.5)/s - 0.5)\n",
    "        y = s*(1.0*(nny+0.5)/s - 0.5)\n",
    "        z = h*(1.0*(nnz+0.5)/h - 0.5)\n",
    "        \n",
    "        if(x**2 + y**2 <= radius**2 and z > -halfheight and z < halfheight):\n",
    "            vol[nnx,nny,nnz] += 1\n",
    "    \n",
    "    return vol\n",
    "\n",
    "def add_to_vol(vol,vol_add,x_offset,y_offset,z_offset):\n",
    "    \"\"\"Adds vol_add to vol at the specified offset\"\"\"\n",
    "    \n",
    "    half_x = vol_add.shape[0] - 1\n",
    "    if(half_x % 2 != 0):\n",
    "        print(\"ERROR: half_x = {} not divisible by 2\".format(half_x))\n",
    "        return None\n",
    "    half_x = int(half_x/2)\n",
    "    \n",
    "    half_y = vol_add.shape[1] - 1\n",
    "    if(half_y % 2 != 0):\n",
    "        print(\"ERROR: half_y = {} not divisible by 2\".format(half_y))\n",
    "        return None\n",
    "    half_y = int(half_y/2)\n",
    "    \n",
    "    half_z = vol_add.shape[2] - 1\n",
    "    if(half_z % 2 != 0):\n",
    "        print(\"ERROR: half_z = {} not divisible by 2\".format(half_z))\n",
    "        return None\n",
    "    half_z = int(half_z/2)\n",
    "    \n",
    "    x0 = int((vol.shape[0]-1)/2) + x_offset\n",
    "    y0 = int((vol.shape[1]-1)/2) + y_offset\n",
    "    z0 = int((vol.shape[2]-1)/2) + z_offset\n",
    "    \n",
    "    vol[x0-half_x:x0+half_x+1,y0-half_y:y0+half_y+1,z0-half_z:z0+half_z+1] += vol_add "
   ]
  },
  {
   "cell_type": "markdown",
   "metadata": {},
   "source": [
    "### Construct the phantom in a 3D numpy array"
   ]
  },
  {
   "cell_type": "code",
   "execution_count": 3,
   "metadata": {},
   "outputs": [],
   "source": [
    "# Create the main volume.\n",
    "s_vol = 271  # cubic volume side length\n",
    "vol = np.zeros([s_vol,s_vol,s_vol])\n",
    "\n",
    "# Create the different components of the phantom.\n",
    "sph_r1 = create_sphere(4)*4\n",
    "sph_r2 = create_sphere(6.5)*4\n",
    "sph_r3 = create_sphere(8.5)*4\n",
    "sph_r4 = create_sphere(11)*4\n",
    "\n",
    "sph_c1 = create_sphere(14)\n",
    "sph_c2 = create_sphere(18.5)\n",
    "\n",
    "cyl = create_cylinder(20,20)\n",
    "\n",
    "# Position them in the main volume.\n",
    "r_pos = 114.4\n",
    "\n",
    "xoff = np.rint(r_pos).astype('int'); yoff = 0\n",
    "add_to_vol(vol,sph_r1,xoff,yoff,0)\n",
    "xoff = np.rint(np.cos(np.pi/3)*r_pos).astype('int'); yoff = np.rint(np.sin(np.pi/3)*r_pos).astype('int')\n",
    "add_to_vol(vol,sph_r2,xoff,yoff,0)\n",
    "xoff = np.rint(np.cos(2*np.pi/3)*r_pos).astype('int'); yoff = np.rint(np.sin(2*np.pi/3)*r_pos).astype('int')\n",
    "add_to_vol(vol,sph_r3,xoff,yoff,0)\n",
    "xoff = np.rint(np.cos(np.pi)*r_pos).astype('int'); yoff = np.rint(np.sin(np.pi)*r_pos).astype('int')\n",
    "add_to_vol(vol,sph_r4,xoff,yoff,0)\n",
    "xoff = np.rint(np.cos(4*np.pi/3)*r_pos).astype('int'); yoff = np.rint(np.sin(4*np.pi/3)*r_pos).astype('int')\n",
    "add_to_vol(vol,sph_c1,xoff,yoff,0)\n",
    "xoff = np.rint(np.cos(5*np.pi/3)*r_pos).astype('int'); yoff = np.rint(np.sin(5*np.pi/3)*r_pos).astype('int')\n",
    "add_to_vol(vol,sph_c1,xoff,yoff,0)\n",
    "\n",
    "add_to_vol(vol,cyl,0,0,0)"
   ]
  },
  {
   "cell_type": "code",
   "execution_count": 4,
   "metadata": {},
   "outputs": [
    {
     "data": {
      "text/plain": [
       "<matplotlib.colorbar.Colorbar at 0x11b894278>"
      ]
     },
     "execution_count": 4,
     "metadata": {},
     "output_type": "execute_result"
    },
    {
     "data": {
      "image/png": "[encoded data removed]",
      "text/plain": [
       "<Figure size 432x288 with 2 Axes>"
      ]
     },
     "metadata": {
      "needs_background": "light"
     },
     "output_type": "display_data"
    }
   ],
   "source": [
    "plt.imshow(vol[:,:,135].transpose())\n",
    "plt.colorbar()"
   ]
  },
  {
   "cell_type": "code",
   "execution_count": 5,
   "metadata": {},
   "outputs": [
    {
     "data": {
      "image/png": "[encoded data removed]",
      "text/plain": [
       "<Figure size 432x288 with 1 Axes>"
      ]
     },
     "metadata": {
      "needs_background": "light"
     },
     "output_type": "display_data"
    }
   ],
   "source": [
    "# Note, this plot takes a long time to run\n",
    "fig = plt.figure()\n",
    "ax = fig.gca(projection='3d')\n",
    "vox = ax.voxels(vol, edgecolor='k', cmap='jet')"
   ]
  },
  {
   "cell_type": "markdown",
   "metadata": {},
   "source": [
    "### Write the distribution to a binary file"
   ]
  },
  {
   "cell_type": "code",
   "execution_count": 6,
   "metadata": {},
   "outputs": [],
   "source": [
    "# Normalize the volume.\n",
    "npimg = vol\n",
    "npimg = npimg.astype('float64') / np.sum(npimg)"
   ]
  },
  {
   "cell_type": "code",
   "execution_count": 7,
   "metadata": {},
   "outputs": [
    {
     "name": "stdout",
     "output_type": "stream",
     "text": [
      "Shape = (271,271,271); size = (271.0,271.0,271.0)\n"
     ]
    }
   ],
   "source": [
    "# Flatten and convert to a cumulative distribution.\n",
    "npimg_flat = npimg.flatten().cumsum()\n",
    "\n",
    "# Pack the header information (Nx, Ny, Nz, Lx, Ly, Lz)\n",
    "Nx = npimg.shape[0]\n",
    "Ny = npimg.shape[1]\n",
    "Nz = npimg.shape[2]\n",
    "Lx = float(Nx)\n",
    "Ly = float(Ny)\n",
    "Lz = float(Nz)\n",
    "print(\"Shape = ({},{},{}); size = ({},{},{})\".format(Nx,Ny,Nz,Lx,Ly,Lz))\n",
    "\n",
    "s_hdr1 = struct.pack('i'*3,Nx,Ny,Nz)\n",
    "s_hdr2 = struct.pack('f'*3,Lx,Ly,Lz)\n",
    "s_arr = struct.pack('f'*len(npimg_flat), *npimg_flat)\n",
    "f = open('phantom_NEMAlike.dat','wb')\n",
    "f.write(s_hdr1)\n",
    "f.write(s_hdr2)\n",
    "f.write(s_arr)\n",
    "f.close()"
   ]
  },
  {
   "cell_type": "code",
   "execution_count": 8,
   "metadata": {},
   "outputs": [
    {
     "name": "stdout",
     "output_type": "stream",
     "text": [
      "(271,)\n",
      "(271,)\n",
      "(271,)\n",
      "(0.18834836781024933,)\n"
     ]
    }
   ],
   "source": [
    "# Perform some checks.\n",
    "f2 = open('phantom_NEMAlike.dat','rb')\n",
    "x1 = f2.read(4)\n",
    "print(struct.unpack('i',x1))\n",
    "\n",
    "x2 = f2.read(4)\n",
    "print(struct.unpack('i',x2))\n",
    "\n",
    "x3 = f2.read(4)\n",
    "print(struct.unpack('i',x3))\n",
    "\n",
    "f2.read(4)\n",
    "f2.read(4)\n",
    "f2.read(4)\n",
    "\n",
    "for ii in range(2097151): f2.read(4)\n",
    "    \n",
    "print(struct.unpack('f',f2.read(4)))\n",
    "\n",
    "f2.close()"
   ]
  },
  {
   "cell_type": "code",
   "execution_count": null,
   "metadata": {},
   "outputs": [],
   "source": []
  }
 ],
 "metadata": {
  "kernelspec": {
   "display_name": "Python 3",
   "language": "python",
   "name": "python3"
  },
  "language_info": {
   "codemirror_mode": {
    "name": "ipython",
    "version": 3
   },
   "file_extension": ".py",
   "mimetype": "text/x-python",
   "name": "python",
   "nbconvert_exporter": "python",
   "pygments_lexer": "ipython3",
   "version": "3.7.2"
  }
 },
 "nbformat": 4,
 "nbformat_minor": 2
}
